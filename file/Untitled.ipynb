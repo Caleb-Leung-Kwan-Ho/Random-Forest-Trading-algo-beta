{
 "cells": [
  {
   "cell_type": "code",
   "execution_count": 1,
   "metadata": {},
   "outputs": [],
   "source": [
    "import pandas as pd\n",
    "data=pd.read_csv(r\"SPY_DS1.csv\")"
   ]
  },
  {
   "cell_type": "code",
   "execution_count": 2,
   "metadata": {},
   "outputs": [
    {
     "data": {
      "text/html": [
       "<div>\n",
       "<style scoped>\n",
       "    .dataframe tbody tr th:only-of-type {\n",
       "        vertical-align: middle;\n",
       "    }\n",
       "\n",
       "    .dataframe tbody tr th {\n",
       "        vertical-align: top;\n",
       "    }\n",
       "\n",
       "    .dataframe thead th {\n",
       "        text-align: right;\n",
       "    }\n",
       "</style>\n",
       "<table border=\"1\" class=\"dataframe\">\n",
       "  <thead>\n",
       "    <tr style=\"text-align: right;\">\n",
       "      <th></th>\n",
       "      <th>t</th>\n",
       "      <th>o</th>\n",
       "      <th>h</th>\n",
       "      <th>l</th>\n",
       "      <th>c</th>\n",
       "      <th>v</th>\n",
       "      <th>n</th>\n",
       "      <th>vw</th>\n",
       "      <th>date</th>\n",
       "      <th>time</th>\n",
       "    </tr>\n",
       "  </thead>\n",
       "  <tbody>\n",
       "    <tr>\n",
       "      <th>0</th>\n",
       "      <td>1642625940000</td>\n",
       "      <td>451.74</td>\n",
       "      <td>451.96</td>\n",
       "      <td>451.46</td>\n",
       "      <td>451.7900</td>\n",
       "      <td>3095800</td>\n",
       "      <td>17857</td>\n",
       "      <td>451.6706</td>\n",
       "      <td>2022-01-19</td>\n",
       "      <td>15:59:00</td>\n",
       "    </tr>\n",
       "    <tr>\n",
       "      <th>1</th>\n",
       "      <td>1642625880000</td>\n",
       "      <td>452.01</td>\n",
       "      <td>452.09</td>\n",
       "      <td>451.64</td>\n",
       "      <td>451.7500</td>\n",
       "      <td>1484956</td>\n",
       "      <td>8746</td>\n",
       "      <td>452.5418</td>\n",
       "      <td>2022-01-19</td>\n",
       "      <td>15:58:00</td>\n",
       "    </tr>\n",
       "    <tr>\n",
       "      <th>2</th>\n",
       "      <td>1642625820000</td>\n",
       "      <td>452.07</td>\n",
       "      <td>452.18</td>\n",
       "      <td>451.93</td>\n",
       "      <td>452.0101</td>\n",
       "      <td>893222</td>\n",
       "      <td>6800</td>\n",
       "      <td>452.0695</td>\n",
       "      <td>2022-01-19</td>\n",
       "      <td>15:57:00</td>\n",
       "    </tr>\n",
       "    <tr>\n",
       "      <th>3</th>\n",
       "      <td>1642625760000</td>\n",
       "      <td>452.31</td>\n",
       "      <td>452.31</td>\n",
       "      <td>451.88</td>\n",
       "      <td>452.0707</td>\n",
       "      <td>899926</td>\n",
       "      <td>7374</td>\n",
       "      <td>452.0048</td>\n",
       "      <td>2022-01-19</td>\n",
       "      <td>15:56:00</td>\n",
       "    </tr>\n",
       "    <tr>\n",
       "      <th>4</th>\n",
       "      <td>1642625700000</td>\n",
       "      <td>452.60</td>\n",
       "      <td>452.72</td>\n",
       "      <td>452.09</td>\n",
       "      <td>452.3200</td>\n",
       "      <td>1676390</td>\n",
       "      <td>7195</td>\n",
       "      <td>454.1091</td>\n",
       "      <td>2022-01-19</td>\n",
       "      <td>15:55:00</td>\n",
       "    </tr>\n",
       "  </tbody>\n",
       "</table>\n",
       "</div>"
      ],
      "text/plain": [
       "               t       o       h       l         c        v      n        vw  \\\n",
       "0  1642625940000  451.74  451.96  451.46  451.7900  3095800  17857  451.6706   \n",
       "1  1642625880000  452.01  452.09  451.64  451.7500  1484956   8746  452.5418   \n",
       "2  1642625820000  452.07  452.18  451.93  452.0101   893222   6800  452.0695   \n",
       "3  1642625760000  452.31  452.31  451.88  452.0707   899926   7374  452.0048   \n",
       "4  1642625700000  452.60  452.72  452.09  452.3200  1676390   7195  454.1091   \n",
       "\n",
       "         date      time  \n",
       "0  2022-01-19  15:59:00  \n",
       "1  2022-01-19  15:58:00  \n",
       "2  2022-01-19  15:57:00  \n",
       "3  2022-01-19  15:56:00  \n",
       "4  2022-01-19  15:55:00  "
      ]
     },
     "execution_count": 2,
     "metadata": {},
     "output_type": "execute_result"
    }
   ],
   "source": [
    "data.head()"
   ]
  },
  {
   "cell_type": "code",
   "execution_count": 9,
   "metadata": {},
   "outputs": [
    {
     "name": "stdout",
     "output_type": "stream",
     "text": [
      "0.19148899725035579\n",
      "0.07870192910270728\n"
     ]
    }
   ],
   "source": [
    "from sklearn.ensemble import  RandomForestRegressor\n",
    "from sklearn.metrics import mean_absolute_error\n",
    "from sklearn.model_selection import train_test_split\n",
    "\n",
    "y=data.o\n",
    "features1=[\"vw\",\"v\",\"n\"]\n",
    "features2=[\"vw\",\"v\",\"n\",\"c\"]\n",
    "x1=data[features1]\n",
    "x2=data[features2]\n",
    "train_X, val_X, train_y, val_y =train_test_split(x1, y, random_state=1)\n",
    "train_X2, val_X2, train_y2, val_y2 =train_test_split(x2, y, random_state=1)\n",
    "\n",
    "\n",
    "\n",
    "forest_model=RandomForestRegressor(random_state=1)\n",
    "\n",
    "forest_model.fit(train_X,train_y)\n",
    "val_predictions=forest_model.predict(val_X)\n",
    "val_mae=mean_absolute_error(val_predictions, val_y)\n",
    "print(val_mae)\n",
    "forest_model.fit(train_X2,train_y2)\n",
    "val_predictions2=forest_model.predict(val_X2)\n",
    "val_mae2=mean_absolute_error(val_predictions2, val_y2)\n",
    "print(val_mae2)\n"
   ]
  },
  {
   "cell_type": "code",
   "execution_count": 10,
   "metadata": {},
   "outputs": [
    {
     "data": {
      "text/plain": [
       "RandomForestRegressor(random_state=1)"
      ]
     },
     "execution_count": 10,
     "metadata": {},
     "output_type": "execute_result"
    }
   ],
   "source": [
    "forest_model.fit(x2,y)\n"
   ]
  },
  {
   "cell_type": "code",
   "execution_count": 11,
   "metadata": {},
   "outputs": [],
   "source": [
    "dicti={'vw':451.6706,'v':3095800,'n':17857}\n",
    "pre=pd.DataFrame({'vw':[451.6706],'v':[3095800],'n':[17857],'c':[451.7900]})\n"
   ]
  },
  {
   "cell_type": "code",
   "execution_count": 12,
   "metadata": {},
   "outputs": [
    {
     "name": "stdout",
     "output_type": "stream",
     "text": [
      "[451.68415]\n"
     ]
    }
   ],
   "source": [
    "val_pre=forest_model.predict(pre)\n",
    "print(val_pre)"
   ]
  },
  {
   "cell_type": "code",
   "execution_count": null,
   "metadata": {},
   "outputs": [],
   "source": [
    "import pandas as pd\n",
    "from sklearn.ensemble import  RandomForestRegressor\n",
    "from sklearn.metrics import mean_absolute_error\n",
    "from sklearn.model_selection import train_test_split\n",
    "data=pd.read_csv(r\"SPY_DS1.csv\")\n",
    "data.head()\n",
    "\n",
    "y=data.o\n",
    "features1=[\"vw\",\"v\",\"n\"]\n",
    "features2=[\"vw\",\"v\",\"n\",\"c\"]\n",
    "x1=data[features1]\n",
    "x2=data[features2]\n",
    "train_X, val_X, train_y, val_y =train_test_split(x1, y, random_state=1)\n",
    "train_X2, val_X2, train_y2, val_y2 =train_test_split(x2, y, random_state=1)\n",
    "\n",
    "\n",
    "\n",
    "forest_model=RandomForestRegressor(random_state=1)\n",
    "\n",
    "forest_model.fit(train_X,train_y)\n",
    "val_predictions=forest_model.predict(val_X)\n",
    "val_mae=mean_absolute_error(val_predictions, val_y)\n",
    "print(val_mae)\n",
    "forest_model.fit(train_X2,train_y2)\n",
    "val_predictions2=forest_model.predict(val_X2)\n",
    "val_mae2=mean_absolute_error(val_predictions2, val_y2)\n",
    "print(val_mae2)\n",
    "\n",
    "forest_model.fit(x2,y)"
   ]
  }
 ],
 "metadata": {
  "kernelspec": {
   "display_name": "Python 3",
   "language": "python",
   "name": "python3"
  },
  "language_info": {
   "codemirror_mode": {
    "name": "ipython",
    "version": 3
   },
   "file_extension": ".py",
   "mimetype": "text/x-python",
   "name": "python",
   "nbconvert_exporter": "python",
   "pygments_lexer": "ipython3",
   "version": "3.8.3"
  }
 },
 "nbformat": 4,
 "nbformat_minor": 4
}
